{
 "cells": [
  {
   "cell_type": "code",
   "execution_count": 58,
   "metadata": {},
   "outputs": [],
   "source": [
    "from openai import  OpenAI\n",
    "from dotenv import load_dotenv\n",
    "import re\n",
    "import pandas as pd"
   ]
  },
  {
   "cell_type": "code",
   "execution_count": 59,
   "metadata": {},
   "outputs": [
    {
     "data": {
      "text/plain": [
       "True"
      ]
     },
     "execution_count": 59,
     "metadata": {},
     "output_type": "execute_result"
    }
   ],
   "source": [
    "load_dotenv()"
   ]
  },
  {
   "cell_type": "code",
   "execution_count": 60,
   "metadata": {},
   "outputs": [],
   "source": [
    "SRC_LANG = \"french\"\n",
    "DST_LANG = \"spanish\""
   ]
  },
  {
   "cell_type": "code",
   "execution_count": 61,
   "metadata": {},
   "outputs": [],
   "source": [
    "def get_prompt(src_lang: str, dst_lang: str, input: list):\n",
    "\n",
    "    input_str = ',\\n'.join(f\"{item}\" for item in input)\n",
    "\n",
    "    print(type(input_str))\n",
    "    print(input)\n",
    "\n",
    "    prompt = \"\"\"\n",
    "    Using the following list of words in {src_lang}, extract the corresponding words and translate it to {dst_lang},\n",
    "    returning a json file object containing the original words as key and the translation as value.\n",
    "\n",
    "    START EXAMPLE\n",
    "    Input: {{\n",
    "    [Vocabulaire,\n",
    "    i ampoule n.f.,\n",
    "    appareil n.m.,\n",
    "    aspirateur n.m.,\n",
    "    baignoire n.f.,\n",
    "    optimiste adj.,\n",
    "    augmenter,\n",
    "    ]\n",
    "    }}\n",
    "    Output: \n",
    "    {{\n",
    "        Le Vocabulaire: El Vocabulario,\n",
    "        L'ampoule: La Bombilla,\n",
    "        Le aspirateur: La aspiradora,\n",
    "        La baignoire: La bañera,\n",
    "        optimiste: optimista,\n",
    "        augmenter: aumentar,\n",
    "    }}\n",
    "    END EXAMPLE\n",
    "    Input:\n",
    "    {input_str}\n",
    "\n",
    "    Output: \n",
    "    \"\"\"\n",
    "\n",
    "    return prompt.format(src_lang=src_lang, dst_lang=dst_lang, input_str=input_str)\n",
    "\n",
    "\n",
    "\n",
    "## Corregir el caso de verbos, adjetivos, adverbios\n",
    "# Agregar mas ejemplos y mas variados"
   ]
  },
  {
   "cell_type": "code",
   "execution_count": 62,
   "metadata": {},
   "outputs": [
    {
     "name": "stdout",
     "output_type": "stream",
     "text": [
      "<class 'str'>\n",
      "['Vocabulaire', 'i ampoule n.f.', 'appareil n.m.', 'aspirateur n.m.', 'baignoire n.f.', 'bouton n.m.', 'bricolage n.m.', 'bricoleur n.m.', 'couvert n.m.', 'égalité n.f.', 'entretien n.m.', 'évier n.m.', 'four n.m.', 'intérieur n.m.', 'kit n.m.', 'lavabo n.m.', 'lave-linge n.m.', 'lave-vaisselle n.m.', 'lessive n.f.', 'linge n.m.', 'lit n.m.', 'ménage n.m.', 'meuble n.m.', 'miroir n.m.', 'poubelle n-f.']\n"
     ]
    }
   ],
   "source": [
    "input = ['Vocabulaire',\n",
    " 'i ampoule n.f.',\n",
    " 'appareil n.m.',\n",
    " 'aspirateur n.m.',\n",
    " 'baignoire n.f.',\n",
    " 'bouton n.m.',\n",
    " 'bricolage n.m.',\n",
    " 'bricoleur n.m.',\n",
    " 'couvert n.m.',\n",
    " 'égalité n.f.',\n",
    " 'entretien n.m.',\n",
    " 'évier n.m.',\n",
    " 'four n.m.',\n",
    " 'intérieur n.m.',\n",
    " 'kit n.m.',\n",
    " 'lavabo n.m.',\n",
    " 'lave-linge n.m.',\n",
    " 'lave-vaisselle n.m.',\n",
    " 'lessive n.f.',\n",
    " 'linge n.m.',\n",
    " 'lit n.m.',\n",
    " 'ménage n.m.',\n",
    " 'meuble n.m.',\n",
    " 'miroir n.m.',\n",
    " 'poubelle n-f.',\n",
    "]\n",
    "\n",
    "prompt = get_prompt(SRC_LANG, DST_LANG, input)"
   ]
  },
  {
   "cell_type": "code",
   "execution_count": 63,
   "metadata": {},
   "outputs": [
    {
     "name": "stdout",
     "output_type": "stream",
     "text": [
      "\n",
      "    Using the following list of words in french, extract the corresponding words and translate it to spanish,\n",
      "    returning a json file object containing the original words as key and the translation as value.\n",
      "\n",
      "    START EXAMPLE\n",
      "    Input: {\n",
      "    [Vocabulaire,\n",
      "    i ampoule n.f.,\n",
      "    appareil n.m.,\n",
      "    aspirateur n.m.,\n",
      "    baignoire n.f.,\n",
      "    optimiste adj.,\n",
      "    augmenter,\n",
      "    ]\n",
      "    }\n",
      "    Output: \n",
      "    {\n",
      "        Le Vocabulaire: El Vocabulario,\n",
      "        L'ampoule: La Bombilla,\n",
      "        Le aspirateur: La aspiradora,\n",
      "        La baignoire: La bañera,\n",
      "        optimiste: optimista,\n",
      "        augmenter: aumentar,\n",
      "    }\n",
      "    END EXAMPLE\n",
      "    Input:\n",
      "    Vocabulaire,\n",
      "i ampoule n.f.,\n",
      "appareil n.m.,\n",
      "aspirateur n.m.,\n",
      "baignoire n.f.,\n",
      "bouton n.m.,\n",
      "bricolage n.m.,\n",
      "bricoleur n.m.,\n",
      "couvert n.m.,\n",
      "égalité n.f.,\n",
      "entretien n.m.,\n",
      "évier n.m.,\n",
      "four n.m.,\n",
      "intérieur n.m.,\n",
      "kit n.m.,\n",
      "lavabo n.m.,\n",
      "lave-linge n.m.,\n",
      "lave-vaisselle n.m.,\n",
      "lessive n.f.,\n",
      "linge n.m.,\n",
      "lit n.m.,\n",
      "ménage n.m.,\n",
      "meuble n.m.,\n",
      "miroir n.m.,\n",
      "poubelle n-f.\n",
      "\n",
      "    Output: \n",
      "    \n"
     ]
    }
   ],
   "source": [
    "print(prompt)"
   ]
  },
  {
   "cell_type": "code",
   "execution_count": 64,
   "metadata": {},
   "outputs": [],
   "source": [
    "def get_response(prompt: str):\n",
    "\n",
    "    client = OpenAI()\n",
    "\n",
    "    response = client.completions.create(\n",
    "        model=\"text-davinci-003\",\n",
    "        prompt=prompt, \n",
    "        max_tokens=1024,\n",
    "        temperature=0\n",
    "    )\n",
    "\n",
    "    return response"
   ]
  },
  {
   "cell_type": "code",
   "execution_count": 65,
   "metadata": {},
   "outputs": [],
   "source": [
    "response = get_response(prompt)"
   ]
  },
  {
   "cell_type": "code",
   "execution_count": 66,
   "metadata": {},
   "outputs": [],
   "source": [
    "response_text = response.choices[0].text"
   ]
  },
  {
   "cell_type": "code",
   "execution_count": 67,
   "metadata": {},
   "outputs": [
    {
     "name": "stdout",
     "output_type": "stream",
     "text": [
      " {\n",
      "        Le Vocabulaire: El Vocabulario,\n",
      "        L'ampoule: La Bombilla,\n",
      "        L'appareil: El aparato,\n",
      "        L'aspirateur: La aspiradora,\n",
      "        La baignoire: La bañera,\n",
      "        Le bouton: El botón,\n",
      "        Le bricolage: La bricolaje,\n",
      "        Le bricoleur: El bricoleur,\n",
      "        Le couvert: La cubierta,\n",
      "        L'égalité: La igualdad,\n",
      "        L'entretien: El mantenimiento,\n",
      "        L'évier: El fregadero,\n",
      "        Le four: El horno,\n",
      "        L'intérieur: El interior,\n",
      "        Le kit: El kit,\n",
      "        Le lavabo: El lavabo,\n",
      "        Le lave-linge: La lavadora,\n",
      "        Le lave-vaisselle: El lavavajillas,\n",
      "        La lessive: El detergente,\n",
      "        Le linge: La ropa,\n",
      "        Le lit: La cama,\n",
      "        Le ménage: El hogar,\n",
      "        Le meuble: El mueble,\n",
      "        Le miroir: El espejo,\n",
      "        La poubelle: La basura\n",
      "    }\n"
     ]
    }
   ],
   "source": [
    "print(response_text)"
   ]
  },
  {
   "cell_type": "code",
   "execution_count": 81,
   "metadata": {},
   "outputs": [],
   "source": [
    "def output_to_csv(text: str):\n",
    "\n",
    "    text = re.sub(r'[{},]','', text)\n",
    "\n",
    "    output = text.split(\"\\n\")\n",
    "\n",
    "    src = []\n",
    "    dst = []\n",
    "\n",
    "    for item in output: \n",
    "        if item.isspace() or not item:\n",
    "            continue\n",
    "\n",
    "        item = re.sub(r'\\s+', ' ', item).strip()\n",
    "        words = item.split(': ')\n",
    "\n",
    "        src.append(words[0])\n",
    "        dst.append(words[1])\n",
    "\n",
    "    df = pd.DataFrame({\n",
    "        'src': src,\n",
    "        'dst': dst,\n",
    "    })\n",
    "\n",
    "    # Avoid the last '\\n'\n",
    "    return df.to_csv(index=False)"
   ]
  },
  {
   "cell_type": "code",
   "execution_count": 83,
   "metadata": {},
   "outputs": [],
   "source": [
    "df = output_to_csv(response_text)"
   ]
  }
 ],
 "metadata": {
  "kernelspec": {
   "display_name": "venv",
   "language": "python",
   "name": "python3"
  },
  "language_info": {
   "codemirror_mode": {
    "name": "ipython",
    "version": 3
   },
   "file_extension": ".py",
   "mimetype": "text/x-python",
   "name": "python",
   "nbconvert_exporter": "python",
   "pygments_lexer": "ipython3",
   "version": "3.11.5"
  }
 },
 "nbformat": 4,
 "nbformat_minor": 2
}
